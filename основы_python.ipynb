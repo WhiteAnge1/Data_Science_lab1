{
 "cells": [
  {
   "cell_type": "markdown",
   "metadata": {
    "id": "M-DGa20PaHnu"
   },
   "source": [
    "#Задача 1\n",
    "Написать функцию на вход которой подается строка, состоящая из латинских букв.\n",
    "Функция должна вернуть количество гласных букв (a, e, i, o, u) в этой строке. Написать тесты для кода"
   ]
  },
  {
   "cell_type": "code",
   "execution_count": 2,
   "metadata": {
    "id": "XvX8X_JJ6PCb"
   },
   "outputs": [
    {
     "name": "stdout",
     "output_type": "stream",
     "text": [
      "Все тесты пройдены!\n"
     ]
    }
   ],
   "source": [
    "def count_vowels(s: str) -> int:\n",
    "    vowels = {'a', 'e', 'i', 'o', 'u'}  # Множество гласных букв\n",
    "    return sum(1 for char in s.lower() if char in vowels)  # Подсчёт гласных\n",
    "\n",
    "# Тесты\n",
    "assert count_vowels(\"hello\") == 2\n",
    "assert count_vowels(\"world\") == 1\n",
    "assert count_vowels(\"PYTHON\") == 1\n",
    "assert count_vowels(\"beautiful\") == 5\n",
    "assert count_vowels(\"xyz\") == 0\n",
    "\n",
    "print(\"Все тесты пройдены!\")"
   ]
  },
  {
   "cell_type": "markdown",
   "metadata": {
    "id": "t2ClV_Y0bbr6"
   },
   "source": [
    "# Задача 2\n",
    "Написать функцию на вход, которой подается строка. Функция должна вернуть true, если\n",
    "каждый символ в строке встречается только 1 раз, иначе должна вернуть false. Написать тесты для кода"
   ]
  },
  {
   "cell_type": "code",
   "execution_count": 3,
   "metadata": {
    "id": "FppbECao6VIz"
   },
   "outputs": [
    {
     "name": "stdout",
     "output_type": "stream",
     "text": [
      "Все тесты пройдены!\n"
     ]
    }
   ],
   "source": [
    "def is_unique(s: str) -> bool:\n",
    "    seen = set()  # Создаём пустое множество для хранения символов\n",
    "    for char in s:\n",
    "        if char in seen:\n",
    "            return False  # Если символ уже есть в множестве, строка не уникальна\n",
    "        seen.add(char)  # Добавляем символ в множество\n",
    "    return True  # Если дубликатов не найдено, возвращаем True\n",
    "\n",
    "# Тесты\n",
    "assert is_unique(\"abcde\") == True\n",
    "assert is_unique(\"hello\") == False\n",
    "assert is_unique(\"\") == True  # Пустая строка считается уникальной\n",
    "assert is_unique(\"AaBbCc\") == True  # Разные символы, разный регистр\n",
    "assert is_unique(\"112233\") == False  # Повторяющиеся цифры\n",
    "\n",
    "print(\"Все тесты пройдены!\")"
   ]
  },
  {
   "cell_type": "markdown",
   "metadata": {
    "id": "udRiIK1cdt6E"
   },
   "source": [
    "# Задача 3\n",
    "Написать функцию, которая принимает положительное число и возвращает количество\n",
    "бит равных 1 в этом числе. Написать тесты для кода"
   ]
  },
  {
   "cell_type": "code",
   "execution_count": 5,
   "metadata": {
    "id": "6tkfDJRz6dp_"
   },
   "outputs": [
    {
     "name": "stdout",
     "output_type": "stream",
     "text": [
      "Все тесты пройдены!\n"
     ]
    }
   ],
   "source": [
    "def count_bits(n: int) -> int:\n",
    "    return bin(n).count('1')  # Преобразуем число в двоичную строку и считаем '1'\n",
    "\n",
    "# Тесты\n",
    "assert count_bits(5) == 2    # 5 в двоичной системе: 101 → 2 единицы\n",
    "assert count_bits(7) == 3    # 7 в двоичной системе: 111 → 3 единицы\n",
    "assert count_bits(0) == 0    # 0 в двоичной системе: 0 → 0 единиц\n",
    "assert count_bits(15) == 4   # 15 в двоичной системе: 1111 → 4 единицы\n",
    "assert count_bits(1023) == 10  # 1023 в двоичной: 1111111111 → 10 единиц\n",
    "\n",
    "print(\"Все тесты пройдены!\")"
   ]
  },
  {
   "cell_type": "markdown",
   "metadata": {
    "id": "26dDUz-Ae17N"
   },
   "source": [
    "# Задача 4\n",
    "Написать функцию, которая принимает положительное число. Функция должна вернуть то,\n",
    "сколько раз необходимо перемножать цифры числа или результат перемножения, чтобы\n",
    "получилось число состоящее из одной цифры.\n",
    "Например, для входного числа:\n",
    "· 39 функция должна вернуть 3, так как 3*9=27 => 2*7=14 => 1*4=4\n",
    "· 4 функция должна вернуть 0, так как число уже состоит из одной цифры\n",
    "· 999 функция должна вернуть 4, так как 9*9*9=729 => 7*2*9=126 => 1*2*6=12 =>\n",
    "1*2=2. Написать тесты для кода"
   ]
  },
  {
   "cell_type": "code",
   "execution_count": 6,
   "metadata": {
    "id": "BH1A_Mgi6i4G"
   },
   "outputs": [
    {
     "name": "stdout",
     "output_type": "stream",
     "text": [
      "Все тесты пройдены!\n"
     ]
    }
   ],
   "source": [
    "def magic(n: int) -> int:\n",
    "    count = 0  # Счётчик итераций\n",
    "    \n",
    "    while n >= 10:  # Пока число состоит из нескольких цифр\n",
    "        product = 1  # Переменная для хранения произведения цифр\n",
    "        \n",
    "        for digit in str(n):  # Преобразуем число в строку и перебираем цифры\n",
    "            product *= int(digit)  # Умножаем цифры друг на друга\n",
    "        \n",
    "        n = product  # Обновляем число\n",
    "        count += 1  # Увеличиваем счётчик итераций\n",
    "    \n",
    "    return count  # Возвращаем количество шагов\n",
    "\n",
    "# Тесты\n",
    "assert magic(39) == 3   # 39 → 27 → 14 → 4 (3 итерации)\n",
    "assert magic(4) == 0    # 4 (уже одна цифра)\n",
    "assert magic(999) == 4  # 999 → 729 → 126 → 12 → 2 (4 итерации)\n",
    "assert magic(25) == 2   # 25 → 10 → 0 (2 итерации)\n",
    "assert magic(7) == 0    # 7 (уже одна цифра)\n",
    "\n",
    "print(\"Все тесты пройдены!\")"
   ]
  },
  {
   "cell_type": "markdown",
   "metadata": {
    "id": "0nS-kIa8g8vd"
   },
   "source": [
    "# Задача 5\n",
    "Написать функцию, которая принимает два целочисленных вектора одинаковой длины и\n",
    "возвращает среднеквадратическое отклонение двух векторов. Написать тесты для кода"
   ]
  },
  {
   "cell_type": "code",
   "execution_count": 7,
   "metadata": {
    "id": "8iphx4LM6xbx"
   },
   "outputs": [
    {
     "name": "stdout",
     "output_type": "stream",
     "text": [
      "Тест 3 пройден: Оба вектора должны иметь одинаковую длину\n",
      "Тест 4 пройден: Все элементы векторов должны быть целыми числами\n",
      "Тест 5 пройден: Все элементы векторов должны быть целыми числами\n",
      "Все тесты пройдены!\n"
     ]
    }
   ],
   "source": [
    "def mse(pred: list[int], true: list[int]) -> float:\n",
    "    \"\"\"Вычисляет среднеквадратическое отклонение (MSE) между двумя векторами.\"\"\"\n",
    "    \n",
    "    # Проверяем, что длины векторов одинаковы\n",
    "    if len(pred) != len(true):\n",
    "        raise ValueError(\"Оба вектора должны иметь одинаковую длину\")\n",
    "    \n",
    "    # Проверяем, что все элементы вектора целые числа\n",
    "    if not all(isinstance(i, int) for i in pred + true):\n",
    "        raise TypeError(\"Все элементы векторов должны быть целыми числами\")\n",
    "    \n",
    "    # Создаём список разностей элементов\n",
    "    differences = []\n",
    "    for p, t in zip(pred, true):\n",
    "        differences.append((p - t) ** 2)  # Возводим разницу в квадрат\n",
    "\n",
    "    # Находим сумму всех квадратов разностей\n",
    "    sum_of_squares = sum(differences)\n",
    "\n",
    "    # Вычисляем среднее значение (делим на количество элементов)\n",
    "    mse_value = sum_of_squares / len(pred)\n",
    "\n",
    "    return mse_value\n",
    "\n",
    "# 🔍 Тесты:\n",
    "\n",
    "# 1. Совпадающие векторы → MSE = 0\n",
    "assert mse([1, 2, 3], [1, 2, 3]) == 0.0\n",
    "\n",
    "# 2. Разные векторы → MSE не равно 0\n",
    "assert mse([1, 2, 3], [4, 5, 6]) == 9.0  # ((1-4)^2 + (2-5)^2 + (3-6)^2) / 3 = 9\n",
    "\n",
    "# 3. Проверка векторов разной длины\n",
    "try:\n",
    "    mse([1, 2], [1, 2, 3])  # Длины разные, ожидается ошибка\n",
    "except ValueError as e:\n",
    "    print(f\"Тест 3 пройден: {e}\")\n",
    "\n",
    "# 4. Проверка на строку в векторах\n",
    "try:\n",
    "    mse([1, 2, '3'], [1, 2, 3])  # Наличие строки в первом векторе, ожидается ошибка\n",
    "except TypeError as e:\n",
    "    print(f\"Тест 4 пройден: {e}\")\n",
    "\n",
    "# 5. Проверка на дробное число в векторах\n",
    "try:\n",
    "    mse([1, 2, 3.5], [1, 2, 3])  # Дробное число в первом векторе, ожидается ошибка\n",
    "except TypeError as e:\n",
    "    print(f\"Тест 5 пройден: {e}\")\n",
    "\n",
    "# 6. Проверка векторов с одинаковыми элементами и нулевым результатом\n",
    "assert mse([10, 20, 30], [10, 20, 30]) == 0.0\n",
    "\n",
    "# 7. Проверка векторов с разными значениями\n",
    "assert mse([10, 20, 30], [10, 25, 30]) == 8.333333333333334  # (0^2 + 5^2 + 0^2) / 3\n",
    "\n",
    "# Выводим, что все тесты прошли, если не было ошибок\n",
    "print(\"Все тесты пройдены!\")"
   ]
  },
  {
   "cell_type": "markdown",
   "metadata": {
    "id": "vpIPKL439zkw"
   },
   "source": [
    "# Задача 6\n",
    "Написать функцию, принимающая целое положительное число. Функция должна вернуть\n",
    "строку вида “(n1**p1)(n2**p2)…(nk**pk)” представляющая разложение числа на простые\n",
    "множители (если pi == 1, то выводить только ni).\n",
    "Например, для числа 86240 функция должна вернуть “(2**5)(5)(7**2)(11)”. Написать тесты для кода"
   ]
  },
  {
   "cell_type": "code",
   "execution_count": 9,
   "metadata": {
    "id": "pFebmcZk94Jw"
   },
   "outputs": [
    {
     "name": "stdout",
     "output_type": "stream",
     "text": [
      "Ожидаемая ошибка для -5: Число должно быть положительным и больше 1\n",
      "Ожидаемая ошибка для 0: Число должно быть положительным и больше 1\n",
      "Ожидаемая ошибка для 1: Число должно быть положительным и больше 1\n",
      "Все тесты пройдены!\n"
     ]
    }
   ],
   "source": [
    "def prime_factors(n: int) -> str:\n",
    "    \"\"\"Функция разлагает число n на простые множители и возвращает строку с разложением.\"\"\"\n",
    "    \n",
    "    if n < 2:\n",
    "        raise ValueError(\"Число должно быть положительным и больше 1\")\n",
    "    \n",
    "    factors = []  # Список для хранения разложения\n",
    "\n",
    "    # Проверяем делимость на 2\n",
    "    count = 0\n",
    "    while n % 2 == 0:\n",
    "        count += 1\n",
    "        n //= 2\n",
    "    if count > 0:\n",
    "        factors.append(f\"(2**{count})\" if count > 1 else \"(2)\")\n",
    "\n",
    "    # Проверяем нечетные числа от 3 до sqrt(n)\n",
    "    divisor = 3\n",
    "    while divisor * divisor <= n:\n",
    "        count = 0\n",
    "        while n % divisor == 0:\n",
    "            count += 1\n",
    "            n //= divisor\n",
    "        if count > 0:\n",
    "            factors.append(f\"({divisor}**{count})\" if count > 1 else f\"({divisor})\")\n",
    "        divisor += 2  # Переходим к следующему нечетному числу\n",
    "\n",
    "    # Если осталось число > 1, оно само является простым\n",
    "    if n > 1:\n",
    "        factors.append(f\"({n})\")\n",
    "\n",
    "    return \"\".join(factors)\n",
    "\n",
    "\n",
    "# Тесты для корректных значений\n",
    "assert prime_factors(86240) == \"(2**5)(5)(7**2)(11)\"\n",
    "assert prime_factors(2) == \"(2)\"\n",
    "assert prime_factors(7) == \"(7)\"\n",
    "assert prime_factors(28) == \"(2**2)(7)\"\n",
    "assert prime_factors(100) == \"(2**2)(5**2)\"\n",
    "assert prime_factors(13) == \"(13)\"\n",
    "assert prime_factors(49) == \"(7**2)\"\n",
    "\n",
    "# Тесты для ошибок\n",
    "for test_value in [-5, 0, 1]:\n",
    "    try:\n",
    "        prime_factors(test_value)\n",
    "        print(f\"Ошибка: {test_value} должен был вызвать исключение\")\n",
    "    except ValueError as e:\n",
    "        print(f\"Ожидаемая ошибка для {test_value}: {e}\")\n",
    "print(\"Все тесты пройдены!\")"
   ]
  },
  {
   "cell_type": "markdown",
   "metadata": {
    "id": "ps2s0BudX7A2"
   },
   "source": [
    "# Задача 7\n",
    "Написать функцию, принимающая целое число n, задающее количество кубиков. Функция\n",
    "должна определить, можно ли из данного кол-ва кубиков построить пирамиду, то есть\n",
    "можно ли представить число n как 1^2+2^2+3^2+…+k^2. Если можно, то функция должна\n",
    "вернуть k, иначе строку “It is impossible”. Написать тесты для кода"
   ]
  },
  {
   "cell_type": "code",
   "execution_count": 12,
   "metadata": {
    "id": "3YPjEXxhX_YT"
   },
   "outputs": [
    {
     "name": "stdout",
     "output_type": "stream",
     "text": [
      "Ожидаемая ошибка для -5: Число должно быть положительным\n",
      "Ожидаемая ошибка для 0: Число должно быть положительным\n",
      "Все тесты пройдены!\n"
     ]
    }
   ],
   "source": [
    "def pyramid(number: int) -> int | str:\n",
    "    \"\"\"Определяет, можно ли представить число number как сумму квадратов 1^2 + 2^2 + ... + k^2.\"\"\"\n",
    "    \n",
    "    if number < 1:\n",
    "        raise ValueError(\"Число должно быть положительным\")\n",
    "\n",
    "    sum_squares = 0  # Текущая сумма квадратов\n",
    "    k = 0  # Количество слоёв пирамиды\n",
    "\n",
    "    while sum_squares < number:\n",
    "        k += 1  # Переходим к следующему слою пирамиды\n",
    "        sum_squares += k ** 2  # Добавляем квадрат числа k\n",
    "\n",
    "        if sum_squares == number:\n",
    "            return k  # Нашли нужное значение\n",
    "\n",
    "    return \"It is impossible\"  # Если сумма превысила n, решения нет\n",
    "\n",
    "\n",
    "# Тесты на корректные значения\n",
    "assert pyramid(6) == \"It is impossible\"\n",
    "assert pyramid(14) == 3\n",
    "assert pyramid(1) == 1\n",
    "assert pyramid(35) == \"It is impossible\"\n",
    "assert pyramid(55) == 5\n",
    "\n",
    "# Тесты на ошибки\n",
    "for test_value in [-5, 0]:\n",
    "    try:\n",
    "        pyramid(test_value)\n",
    "        print(f\"Ошибка: {test_value} должен был вызвать исключение\")\n",
    "    except ValueError as e:\n",
    "        print(f\"Ожидаемая ошибка для {test_value}: {e}\")\n",
    "\n",
    "print(\"Все тесты пройдены!\")"
   ]
  },
  {
   "cell_type": "markdown",
   "metadata": {
    "id": "KeKgmIdAQMEJ"
   },
   "source": [
    "# Задача 8\n",
    "Функция принимает на вход положительное число и определяет является ли оно сбалансированным, т.е. сумма цифр до средних равна сумме цифр после. Средними в случае нечетного числа цифр считать одну цифру, в случае четного - две средних. Написать тесты для кода"
   ]
  },
  {
   "cell_type": "code",
   "execution_count": 14,
   "metadata": {
    "id": "gMAAqtqlQrZt"
   },
   "outputs": [
    {
     "name": "stdout",
     "output_type": "stream",
     "text": [
      "Ожидаемая ошибка для -123: Число должно быть положительным\n",
      "Ожидаемая ошибка для 0: Число должно быть положительным\n",
      "Все тесты пройдены!\n"
     ]
    }
   ],
   "source": [
    "def is_balanced(n: int) -> bool:\n",
    "    \"\"\"Определяет, является ли число сбалансированным.\"\"\"\n",
    "    if n <= 0:\n",
    "        raise ValueError(\"Число должно быть положительным\")\n",
    "\n",
    "    str_n = str(n)  # Преобразуем число в строку\n",
    "    length = len(str_n)  # Длина числа\n",
    "\n",
    "    mid = length // 2  # Определяем середину\n",
    "\n",
    "    if length % 2 == 0:  # Если чётное число цифр\n",
    "        left_part = str_n[:mid - 1]  # Часть до двух средних цифр\n",
    "        right_part = str_n[mid + 1:]  # Часть после двух средних цифр\n",
    "    else:  # Если нечётное число цифр\n",
    "        left_part = str_n[:mid]  # Часть до одной средней цифры\n",
    "        right_part = str_n[mid + 1:]  # Часть после средней цифры\n",
    "\n",
    "    return sum(map(int, left_part)) == sum(map(int, right_part))  # Проверяем равенство сумм\n",
    "\n",
    "\n",
    "# Тесты:\n",
    "assert is_balanced(123321) == True  # 1+2+3 == 3+2+1\n",
    "assert is_balanced(12321) == True   # 1+2 == 2+1 (средняя цифра 3)\n",
    "assert is_balanced(567891) == False # 5+6+7 ≠ 9+1\n",
    "assert is_balanced(123456) == False # 1+2 ≠ 5+6\n",
    "assert is_balanced(22) == True      # 2 == 2\n",
    "assert is_balanced(5) == True       # Одно число всегда сбалансированное\n",
    "\n",
    "# Тесты на ошибки\n",
    "for test_value in [-123, 0]:  # 0 не является положительным\n",
    "    try:\n",
    "        is_balanced(test_value)\n",
    "        print(f\"Ошибка: {test_value} должен был вызвать исключение\")\n",
    "    except ValueError as e:\n",
    "        print(f\"Ожидаемая ошибка для {test_value}: {e}\")\n",
    "\n",
    "print(\"Все тесты пройдены!\")\n"
   ]
  },
  {
   "cell_type": "code",
   "execution_count": null,
   "metadata": {},
   "outputs": [],
   "source": []
  }
 ],
 "metadata": {
  "colab": {
   "provenance": []
  },
  "kernelspec": {
   "display_name": "Python 3 (ipykernel)",
   "language": "python",
   "name": "python3"
  },
  "language_info": {
   "codemirror_mode": {
    "name": "ipython",
    "version": 3
   },
   "file_extension": ".py",
   "mimetype": "text/x-python",
   "name": "python",
   "nbconvert_exporter": "python",
   "pygments_lexer": "ipython3",
   "version": "3.13.2"
  }
 },
 "nbformat": 4,
 "nbformat_minor": 4
}
